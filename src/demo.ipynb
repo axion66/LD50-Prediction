{
 "cells": [
  {
   "cell_type": "code",
   "execution_count": 1,
   "metadata": {},
   "outputs": [],
   "source": [
    "from dataload import *\n",
    "\n",
    "f = into_dataset(\"../dataset/ld50_smiles.json\")\n"
   ]
  },
  {
   "cell_type": "code",
   "execution_count": 10,
   "metadata": {},
   "outputs": [
    {
     "name": "stdout",
     "output_type": "stream",
     "text": [
      "dict_keys(['x_smile', 'x', 'ld50'])\n",
      "Data(x=[5, 9], edge_index=[2, 16], edge_attr=[16, 3], smiles='B12B3B4B1C234')\n",
      "None\n",
      "Data(x=[4, 9], edge_index=[2, 6], edge_attr=[6, 3], smiles='BrC(Br)Br')\n"
     ]
    }
   ],
   "source": [
    "print(f[0].keys())\n",
    "\n",
    "print(f[0]['x'])\n",
    "print(f[1]['x'])\n",
    "print(f[2]['x'])"
   ]
  },
  {
   "cell_type": "code",
   "execution_count": null,
   "metadata": {},
   "outputs": [],
   "source": []
  }
 ],
 "metadata": {
  "kernelspec": {
   "display_name": "Python 3",
   "language": "python",
   "name": "python3"
  },
  "language_info": {
   "codemirror_mode": {
    "name": "ipython",
    "version": 3
   },
   "file_extension": ".py",
   "mimetype": "text/x-python",
   "name": "python",
   "nbconvert_exporter": "python",
   "pygments_lexer": "ipython3",
   "version": "3.9.6"
  }
 },
 "nbformat": 4,
 "nbformat_minor": 2
}
